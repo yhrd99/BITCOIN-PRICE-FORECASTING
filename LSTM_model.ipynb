{
 "cells": [
  {
   "cell_type": "markdown",
   "id": "d8622a63",
   "metadata": {},
   "source": [
    "# **Implementation of Long-Short Term Memory model**"
   ]
  },
  {
   "cell_type": "markdown",
   "id": "eed938d6",
   "metadata": {},
   "source": [
    "## **Formating the data**"
   ]
  },
  {
   "cell_type": "code",
   "execution_count": 1,
   "id": "ed4f5a03",
   "metadata": {},
   "outputs": [],
   "source": [
    "# pip install pandas, numpy, scikit-learn, tensorflow, matplotlib\n",
    "import pandas as pd\n",
    "import numpy as np\n",
    "import matplotlib.pyplot as plt\n",
    "from sklearn.preprocessing import MinMaxScaler\n",
    "from sklearn.metrics import mean_squared_error, mean_absolute_error\n",
    "from sklearn.metrics import r2_score\n",
    "import tensorflow as tf\n",
    "from tensorflow.keras import layers, models, callbacks\n",
    "from tensorflow.keras.callbacks import EarlyStopping"
   ]
  },
  {
   "cell_type": "code",
   "execution_count": 2,
   "id": "4c60ba4f",
   "metadata": {},
   "outputs": [],
   "source": [
    "df_price = pd.read_pickle(\"hourly.pkl\")\n",
    "df_reserve = pd.read_pickle(\"reserve_features.pkl\")"
   ]
  },
  {
   "cell_type": "markdown",
   "id": "1b272fd1",
   "metadata": {},
   "source": [
    "We filter to keep only what regards bitcoin:"
   ]
  },
  {
   "cell_type": "code",
   "execution_count": 3,
   "id": "e299a047",
   "metadata": {},
   "outputs": [],
   "source": [
    "df_btc_price = df_price[df_price['reserve_name'] == 'Wrapped BTC']\n",
    "df_btc_reserve = df_reserve[df_reserve['reserve_name'] == 'Wrapped BTC']"
   ]
  },
  {
   "cell_type": "markdown",
   "id": "54605d33",
   "metadata": {},
   "source": [
    "We merge `df_btc_price` and `df_btc_reserve` by column datetime:"
   ]
  },
  {
   "cell_type": "code",
   "execution_count": 4,
   "id": "f83ccf3d",
   "metadata": {},
   "outputs": [],
   "source": [
    "df = pd.merge(df_btc_price, df_btc_reserve, left_on='datetime', right_on='regular_datetime')"
   ]
  },
  {
   "cell_type": "markdown",
   "id": "dec73d8f",
   "metadata": {},
   "source": [
    "We sort by date, remove duplicates et uninteresting variables:"
   ]
  },
  {
   "cell_type": "code",
   "execution_count": 5,
   "id": "b381a5ba",
   "metadata": {},
   "outputs": [],
   "source": [
    "df = df.sort_values('datetime')\n",
    "df = df.drop_duplicates(subset='datetime')\n",
    "cols_to_drop = [\n",
    "    'Unnamed: 0_x', 'Unnamed: 0_y', 'blockNumber', 'timestamp_hours',\n",
    "    'snapshot_timestamp', 'timestamp', 'outputTokenPriceUSD',\n",
    "    'totalPrincipalStableDebt', 'averageStableBorrowRate', 'priceInEth',\n",
    "    'priceInUsd', 'reserve_decimals', 'true_value', 'reserve_name_x', 'reserve_name_y',\n",
    "    'regular_datetime'\n",
    "]\n",
    "df = df.drop(columns=[col for col in cols_to_drop if col in df.columns], errors='ignore')"
   ]
  },
  {
   "cell_type": "markdown",
   "id": "22a14013",
   "metadata": {},
   "source": [
    "We define the variables: logarithm of price of bitcoin, and logarithm of `totalATokenSupply`, `totalLiquidity`, `availableLiquidity`:"
   ]
  },
  {
   "cell_type": "code",
   "execution_count": 6,
   "id": "df265dbd",
   "metadata": {},
   "outputs": [],
   "source": [
    "df['log_BTC'] = np.log(df['inputTokenPriceUSD'])\n",
    "\n",
    "for col in ['totalATokenSupply', 'totalLiquidity', 'availableLiquidity']:\n",
    "    if col in df.columns:\n",
    "        df[f'log_{col}'] = np.log(df[col] + 1e-8)  # to avoid log(0)"
   ]
  },
  {
   "cell_type": "code",
   "execution_count": 7,
   "id": "95d8442f",
   "metadata": {},
   "outputs": [
    {
     "data": {
      "text/html": [
       "<div>\n",
       "<style scoped>\n",
       "    .dataframe tbody tr th:only-of-type {\n",
       "        vertical-align: middle;\n",
       "    }\n",
       "\n",
       "    .dataframe tbody tr th {\n",
       "        vertical-align: top;\n",
       "    }\n",
       "\n",
       "    .dataframe thead th {\n",
       "        text-align: right;\n",
       "    }\n",
       "</style>\n",
       "<table border=\"1\" class=\"dataframe\">\n",
       "  <thead>\n",
       "    <tr style=\"text-align: right;\">\n",
       "      <th></th>\n",
       "      <th>datetime</th>\n",
       "      <th>log_BTC</th>\n",
       "      <th>log_totalATokenSupply</th>\n",
       "      <th>log_totalLiquidity</th>\n",
       "      <th>log_availableLiquidity</th>\n",
       "    </tr>\n",
       "  </thead>\n",
       "  <tbody>\n",
       "    <tr>\n",
       "      <th>0</th>\n",
       "      <td>2023-01-27 12:00:00+00:00</td>\n",
       "      <td>10.038954</td>\n",
       "      <td>-0.478254</td>\n",
       "      <td>-0.478254</td>\n",
       "      <td>-0.478254</td>\n",
       "    </tr>\n",
       "    <tr>\n",
       "      <th>1</th>\n",
       "      <td>2023-01-27 13:00:00+00:00</td>\n",
       "      <td>10.038424</td>\n",
       "      <td>-0.263094</td>\n",
       "      <td>-0.263094</td>\n",
       "      <td>-0.263094</td>\n",
       "    </tr>\n",
       "    <tr>\n",
       "      <th>2</th>\n",
       "      <td>2023-01-27 14:00:00+00:00</td>\n",
       "      <td>10.036305</td>\n",
       "      <td>1.236421</td>\n",
       "      <td>1.236421</td>\n",
       "      <td>1.236421</td>\n",
       "    </tr>\n",
       "    <tr>\n",
       "      <th>3</th>\n",
       "      <td>2023-01-27 15:00:00+00:00</td>\n",
       "      <td>10.042360</td>\n",
       "      <td>1.660758</td>\n",
       "      <td>1.660758</td>\n",
       "      <td>1.660758</td>\n",
       "    </tr>\n",
       "    <tr>\n",
       "      <th>4</th>\n",
       "      <td>2023-01-27 16:00:00+00:00</td>\n",
       "      <td>10.043632</td>\n",
       "      <td>1.671224</td>\n",
       "      <td>1.671224</td>\n",
       "      <td>1.671224</td>\n",
       "    </tr>\n",
       "  </tbody>\n",
       "</table>\n",
       "</div>"
      ],
      "text/plain": [
       "                   datetime    log_BTC  log_totalATokenSupply  \\\n",
       "0 2023-01-27 12:00:00+00:00  10.038954              -0.478254   \n",
       "1 2023-01-27 13:00:00+00:00  10.038424              -0.263094   \n",
       "2 2023-01-27 14:00:00+00:00  10.036305               1.236421   \n",
       "3 2023-01-27 15:00:00+00:00  10.042360               1.660758   \n",
       "4 2023-01-27 16:00:00+00:00  10.043632               1.671224   \n",
       "\n",
       "   log_totalLiquidity  log_availableLiquidity  \n",
       "0           -0.478254               -0.478254  \n",
       "1           -0.263094               -0.263094  \n",
       "2            1.236421                1.236421  \n",
       "3            1.660758                1.660758  \n",
       "4            1.671224                1.671224  "
      ]
     },
     "execution_count": 7,
     "metadata": {},
     "output_type": "execute_result"
    }
   ],
   "source": [
    "df = df.dropna(subset=['log_BTC', 'log_totalATokenSupply', 'log_totalLiquidity', 'log_availableLiquidity'])\n",
    "df = df.reset_index(drop=True)\n",
    "df[['datetime', 'log_BTC', 'log_totalATokenSupply', 'log_totalLiquidity', 'log_availableLiquidity']].head()"
   ]
  },
  {
   "cell_type": "code",
   "execution_count": 8,
   "id": "0c42c732",
   "metadata": {},
   "outputs": [
    {
     "data": {
      "text/html": [
       "<div>\n",
       "<style scoped>\n",
       "    .dataframe tbody tr th:only-of-type {\n",
       "        vertical-align: middle;\n",
       "    }\n",
       "\n",
       "    .dataframe tbody tr th {\n",
       "        vertical-align: top;\n",
       "    }\n",
       "\n",
       "    .dataframe thead th {\n",
       "        text-align: right;\n",
       "    }\n",
       "</style>\n",
       "<table border=\"1\" class=\"dataframe\">\n",
       "  <thead>\n",
       "    <tr style=\"text-align: right;\">\n",
       "      <th></th>\n",
       "      <th>log_BTC</th>\n",
       "      <th>log_totalATokenSupply</th>\n",
       "      <th>log_totalLiquidity</th>\n",
       "      <th>log_availableLiquidity</th>\n",
       "    </tr>\n",
       "  </thead>\n",
       "  <tbody>\n",
       "    <tr>\n",
       "      <th>0</th>\n",
       "      <td>10.038954</td>\n",
       "      <td>-0.478254</td>\n",
       "      <td>-0.478254</td>\n",
       "      <td>-0.478254</td>\n",
       "    </tr>\n",
       "    <tr>\n",
       "      <th>1</th>\n",
       "      <td>10.038424</td>\n",
       "      <td>-0.263094</td>\n",
       "      <td>-0.263094</td>\n",
       "      <td>-0.263094</td>\n",
       "    </tr>\n",
       "    <tr>\n",
       "      <th>2</th>\n",
       "      <td>10.036305</td>\n",
       "      <td>1.236421</td>\n",
       "      <td>1.236421</td>\n",
       "      <td>1.236421</td>\n",
       "    </tr>\n",
       "    <tr>\n",
       "      <th>3</th>\n",
       "      <td>10.042360</td>\n",
       "      <td>1.660758</td>\n",
       "      <td>1.660758</td>\n",
       "      <td>1.660758</td>\n",
       "    </tr>\n",
       "    <tr>\n",
       "      <th>4</th>\n",
       "      <td>10.043632</td>\n",
       "      <td>1.671224</td>\n",
       "      <td>1.671224</td>\n",
       "      <td>1.671224</td>\n",
       "    </tr>\n",
       "    <tr>\n",
       "      <th>...</th>\n",
       "      <td>...</td>\n",
       "      <td>...</td>\n",
       "      <td>...</td>\n",
       "      <td>...</td>\n",
       "    </tr>\n",
       "    <tr>\n",
       "      <th>14018</th>\n",
       "      <td>11.448489</td>\n",
       "      <td>10.507687</td>\n",
       "      <td>10.505377</td>\n",
       "      <td>10.427871</td>\n",
       "    </tr>\n",
       "    <tr>\n",
       "      <th>14019</th>\n",
       "      <td>11.448489</td>\n",
       "      <td>10.507601</td>\n",
       "      <td>10.505292</td>\n",
       "      <td>10.427447</td>\n",
       "    </tr>\n",
       "    <tr>\n",
       "      <th>14020</th>\n",
       "      <td>11.443274</td>\n",
       "      <td>10.507358</td>\n",
       "      <td>10.505048</td>\n",
       "      <td>10.426645</td>\n",
       "    </tr>\n",
       "    <tr>\n",
       "      <th>14021</th>\n",
       "      <td>11.445853</td>\n",
       "      <td>10.507359</td>\n",
       "      <td>10.505049</td>\n",
       "      <td>10.426646</td>\n",
       "    </tr>\n",
       "    <tr>\n",
       "      <th>14022</th>\n",
       "      <td>11.442529</td>\n",
       "      <td>10.507274</td>\n",
       "      <td>10.504964</td>\n",
       "      <td>10.426552</td>\n",
       "    </tr>\n",
       "  </tbody>\n",
       "</table>\n",
       "<p>14023 rows × 4 columns</p>\n",
       "</div>"
      ],
      "text/plain": [
       "         log_BTC  log_totalATokenSupply  log_totalLiquidity  \\\n",
       "0      10.038954              -0.478254           -0.478254   \n",
       "1      10.038424              -0.263094           -0.263094   \n",
       "2      10.036305               1.236421            1.236421   \n",
       "3      10.042360               1.660758            1.660758   \n",
       "4      10.043632               1.671224            1.671224   \n",
       "...          ...                    ...                 ...   \n",
       "14018  11.448489              10.507687           10.505377   \n",
       "14019  11.448489              10.507601           10.505292   \n",
       "14020  11.443274              10.507358           10.505048   \n",
       "14021  11.445853              10.507359           10.505049   \n",
       "14022  11.442529              10.507274           10.504964   \n",
       "\n",
       "       log_availableLiquidity  \n",
       "0                   -0.478254  \n",
       "1                   -0.263094  \n",
       "2                    1.236421  \n",
       "3                    1.660758  \n",
       "4                    1.671224  \n",
       "...                       ...  \n",
       "14018               10.427871  \n",
       "14019               10.427447  \n",
       "14020               10.426645  \n",
       "14021               10.426646  \n",
       "14022               10.426552  \n",
       "\n",
       "[14023 rows x 4 columns]"
      ]
     },
     "execution_count": 8,
     "metadata": {},
     "output_type": "execute_result"
    }
   ],
   "source": [
    "feature_cols = ['log_BTC', 'log_totalATokenSupply', 'log_totalLiquidity', 'log_availableLiquidity']\n",
    "target_col = 'log_BTC'\n",
    "df_model = df[feature_cols].copy()\n",
    "df_model"
   ]
  },
  {
   "cell_type": "markdown",
   "id": "08eea1b7",
   "metadata": {},
   "source": [
    "We split the data chronologically: Train = 70 %, Validation = 15 %, Test = 15 % :"
   ]
  },
  {
   "cell_type": "code",
   "execution_count": 9,
   "id": "ebe60e71",
   "metadata": {},
   "outputs": [],
   "source": [
    "n = len(df_model)\n",
    "train_size = int(0.70 * n)\n",
    "val_size = int(0.15 * n)\n",
    "\n",
    "train_df = df_model.iloc[:train_size]\n",
    "val_df = df_model.iloc[train_size:train_size+val_size]\n",
    "test_df = df_model.iloc[train_size+val_size:]"
   ]
  },
  {
   "cell_type": "markdown",
   "id": "df72da9e",
   "metadata": {},
   "source": [
    "We normalize the features (otherwise the large-scale features would dominate the learning), we fit the scaler on the training set and we apply the transformation to the validation and test sets:"
   ]
  },
  {
   "cell_type": "code",
   "execution_count": 10,
   "id": "7b045423",
   "metadata": {},
   "outputs": [],
   "source": [
    "scaler = MinMaxScaler()\n",
    "train_scaled = scaler.fit_transform(train_df)\n",
    "val_scaled = scaler.transform(val_df)\n",
    "test_scaled = scaler.transform(test_df)"
   ]
  },
  {
   "cell_type": "markdown",
   "id": "9017b754",
   "metadata": {},
   "source": [
    "## **Constructing the sequences**\n",
    "\n",
    "We create fixed-length sliding windows/sequences:"
   ]
  },
  {
   "cell_type": "code",
   "execution_count": 11,
   "id": "050513eb",
   "metadata": {},
   "outputs": [],
   "source": [
    "def create_sequences(data, window=24, horizon=1):\n",
    "    X, y = [], []\n",
    "    for i in range(len(data) - window - horizon + 1):\n",
    "        X.append(data[i:i+window])\n",
    "        y.append(data[i+window+horizon-1][0])  # 0 = log_BTC\n",
    "    return np.array(X), np.array(y)"
   ]
  },
  {
   "cell_type": "markdown",
   "id": "dfd723cb",
   "metadata": {},
   "source": [
    "We'll start testing it with a window of size 24 hours and we predict one step ahead (`HORIZON = 1`):"
   ]
  },
  {
   "cell_type": "code",
   "execution_count": 12,
   "id": "80dd11b8",
   "metadata": {},
   "outputs": [
    {
     "data": {
      "text/plain": [
       "((9792, 24, 4), (9792,))"
      ]
     },
     "execution_count": 12,
     "metadata": {},
     "output_type": "execute_result"
    }
   ],
   "source": [
    "WINDOW = 24\n",
    "HORIZON = 1\n",
    "\n",
    "X_train, y_train = create_sequences(train_scaled, WINDOW, HORIZON)\n",
    "X_val, y_val = create_sequences(val_scaled, WINDOW, HORIZON)\n",
    "X_test, y_test = create_sequences(test_scaled, WINDOW, HORIZON)\n",
    "\n",
    "X_train.shape, y_train.shape"
   ]
  },
  {
   "cell_type": "markdown",
   "id": "f22da3b8",
   "metadata": {},
   "source": [
    "## **Constructing the LSTM model**"
   ]
  },
  {
   "cell_type": "code",
   "execution_count": 13,
   "id": "65297616",
   "metadata": {},
   "outputs": [
    {
     "data": {
      "text/html": [
       "<pre style=\"white-space:pre;overflow-x:auto;line-height:normal;font-family:Menlo,'DejaVu Sans Mono',consolas,'Courier New',monospace\"><span style=\"font-weight: bold\">Model: \"sequential\"</span>\n",
       "</pre>\n"
      ],
      "text/plain": [
       "\u001b[1mModel: \"sequential\"\u001b[0m\n"
      ]
     },
     "metadata": {},
     "output_type": "display_data"
    },
    {
     "data": {
      "text/html": [
       "<pre style=\"white-space:pre;overflow-x:auto;line-height:normal;font-family:Menlo,'DejaVu Sans Mono',consolas,'Courier New',monospace\">┏━━━━━━━━━━━━━━━━━━━━━━━━━━━━━━━━━┳━━━━━━━━━━━━━━━━━━━━━━━━┳━━━━━━━━━━━━━━━┓\n",
       "┃<span style=\"font-weight: bold\"> Layer (type)                    </span>┃<span style=\"font-weight: bold\"> Output Shape           </span>┃<span style=\"font-weight: bold\">       Param # </span>┃\n",
       "┡━━━━━━━━━━━━━━━━━━━━━━━━━━━━━━━━━╇━━━━━━━━━━━━━━━━━━━━━━━━╇━━━━━━━━━━━━━━━┩\n",
       "│ lstm (<span style=\"color: #0087ff; text-decoration-color: #0087ff\">LSTM</span>)                     │ (<span style=\"color: #00d7ff; text-decoration-color: #00d7ff\">None</span>, <span style=\"color: #00af00; text-decoration-color: #00af00\">24</span>, <span style=\"color: #00af00; text-decoration-color: #00af00\">64</span>)         │        <span style=\"color: #00af00; text-decoration-color: #00af00\">17,664</span> │\n",
       "├─────────────────────────────────┼────────────────────────┼───────────────┤\n",
       "│ dropout (<span style=\"color: #0087ff; text-decoration-color: #0087ff\">Dropout</span>)               │ (<span style=\"color: #00d7ff; text-decoration-color: #00d7ff\">None</span>, <span style=\"color: #00af00; text-decoration-color: #00af00\">24</span>, <span style=\"color: #00af00; text-decoration-color: #00af00\">64</span>)         │             <span style=\"color: #00af00; text-decoration-color: #00af00\">0</span> │\n",
       "├─────────────────────────────────┼────────────────────────┼───────────────┤\n",
       "│ lstm_1 (<span style=\"color: #0087ff; text-decoration-color: #0087ff\">LSTM</span>)                   │ (<span style=\"color: #00d7ff; text-decoration-color: #00d7ff\">None</span>, <span style=\"color: #00af00; text-decoration-color: #00af00\">32</span>)             │        <span style=\"color: #00af00; text-decoration-color: #00af00\">12,416</span> │\n",
       "├─────────────────────────────────┼────────────────────────┼───────────────┤\n",
       "│ dense (<span style=\"color: #0087ff; text-decoration-color: #0087ff\">Dense</span>)                   │ (<span style=\"color: #00d7ff; text-decoration-color: #00d7ff\">None</span>, <span style=\"color: #00af00; text-decoration-color: #00af00\">1</span>)              │            <span style=\"color: #00af00; text-decoration-color: #00af00\">33</span> │\n",
       "└─────────────────────────────────┴────────────────────────┴───────────────┘\n",
       "</pre>\n"
      ],
      "text/plain": [
       "┏━━━━━━━━━━━━━━━━━━━━━━━━━━━━━━━━━┳━━━━━━━━━━━━━━━━━━━━━━━━┳━━━━━━━━━━━━━━━┓\n",
       "┃\u001b[1m \u001b[0m\u001b[1mLayer (type)                   \u001b[0m\u001b[1m \u001b[0m┃\u001b[1m \u001b[0m\u001b[1mOutput Shape          \u001b[0m\u001b[1m \u001b[0m┃\u001b[1m \u001b[0m\u001b[1m      Param #\u001b[0m\u001b[1m \u001b[0m┃\n",
       "┡━━━━━━━━━━━━━━━━━━━━━━━━━━━━━━━━━╇━━━━━━━━━━━━━━━━━━━━━━━━╇━━━━━━━━━━━━━━━┩\n",
       "│ lstm (\u001b[38;5;33mLSTM\u001b[0m)                     │ (\u001b[38;5;45mNone\u001b[0m, \u001b[38;5;34m24\u001b[0m, \u001b[38;5;34m64\u001b[0m)         │        \u001b[38;5;34m17,664\u001b[0m │\n",
       "├─────────────────────────────────┼────────────────────────┼───────────────┤\n",
       "│ dropout (\u001b[38;5;33mDropout\u001b[0m)               │ (\u001b[38;5;45mNone\u001b[0m, \u001b[38;5;34m24\u001b[0m, \u001b[38;5;34m64\u001b[0m)         │             \u001b[38;5;34m0\u001b[0m │\n",
       "├─────────────────────────────────┼────────────────────────┼───────────────┤\n",
       "│ lstm_1 (\u001b[38;5;33mLSTM\u001b[0m)                   │ (\u001b[38;5;45mNone\u001b[0m, \u001b[38;5;34m32\u001b[0m)             │        \u001b[38;5;34m12,416\u001b[0m │\n",
       "├─────────────────────────────────┼────────────────────────┼───────────────┤\n",
       "│ dense (\u001b[38;5;33mDense\u001b[0m)                   │ (\u001b[38;5;45mNone\u001b[0m, \u001b[38;5;34m1\u001b[0m)              │            \u001b[38;5;34m33\u001b[0m │\n",
       "└─────────────────────────────────┴────────────────────────┴───────────────┘\n"
      ]
     },
     "metadata": {},
     "output_type": "display_data"
    },
    {
     "data": {
      "text/html": [
       "<pre style=\"white-space:pre;overflow-x:auto;line-height:normal;font-family:Menlo,'DejaVu Sans Mono',consolas,'Courier New',monospace\"><span style=\"font-weight: bold\"> Total params: </span><span style=\"color: #00af00; text-decoration-color: #00af00\">30,113</span> (117.63 KB)\n",
       "</pre>\n"
      ],
      "text/plain": [
       "\u001b[1m Total params: \u001b[0m\u001b[38;5;34m30,113\u001b[0m (117.63 KB)\n"
      ]
     },
     "metadata": {},
     "output_type": "display_data"
    },
    {
     "data": {
      "text/html": [
       "<pre style=\"white-space:pre;overflow-x:auto;line-height:normal;font-family:Menlo,'DejaVu Sans Mono',consolas,'Courier New',monospace\"><span style=\"font-weight: bold\"> Trainable params: </span><span style=\"color: #00af00; text-decoration-color: #00af00\">30,113</span> (117.63 KB)\n",
       "</pre>\n"
      ],
      "text/plain": [
       "\u001b[1m Trainable params: \u001b[0m\u001b[38;5;34m30,113\u001b[0m (117.63 KB)\n"
      ]
     },
     "metadata": {},
     "output_type": "display_data"
    },
    {
     "data": {
      "text/html": [
       "<pre style=\"white-space:pre;overflow-x:auto;line-height:normal;font-family:Menlo,'DejaVu Sans Mono',consolas,'Courier New',monospace\"><span style=\"font-weight: bold\"> Non-trainable params: </span><span style=\"color: #00af00; text-decoration-color: #00af00\">0</span> (0.00 B)\n",
       "</pre>\n"
      ],
      "text/plain": [
       "\u001b[1m Non-trainable params: \u001b[0m\u001b[38;5;34m0\u001b[0m (0.00 B)\n"
      ]
     },
     "metadata": {},
     "output_type": "display_data"
    }
   ],
   "source": [
    "input_shape = X_train.shape[1:] # (24, 4)\n",
    "\n",
    "model = models.Sequential([\n",
    "    layers.Input(shape=input_shape),\n",
    "    layers.LSTM(64, return_sequences=True),\n",
    "    layers.Dropout(0.2),\n",
    "    layers.LSTM(32),\n",
    "    layers.Dense(1) # predicts log_BTC at time t+1\n",
    "])\n",
    "\n",
    "model.compile(\n",
    "    optimizer=tf.keras.optimizers.Adam(learning_rate=1e-3),\n",
    "    loss='mse',\n",
    "    metrics=[tf.keras.metrics.RootMeanSquaredError()]\n",
    ")\n",
    "\n",
    "model.summary()\n"
   ]
  },
  {
   "cell_type": "markdown",
   "id": "7ec69ff5",
   "metadata": {},
   "source": [
    "## **Training the model**"
   ]
  },
  {
   "cell_type": "markdown",
   "id": "05413fdb",
   "metadata": {},
   "source": [
    "We create an 'early stopping callback' which stops training if `val_loss` no longer improves. Then we train the model:"
   ]
  },
  {
   "cell_type": "code",
   "execution_count": 14,
   "id": "2c78cf76",
   "metadata": {},
   "outputs": [
    {
     "name": "stdout",
     "output_type": "stream",
     "text": [
      "Epoch 1/50\n",
      "\u001b[1m153/153\u001b[0m \u001b[32m━━━━━━━━━━━━━━━━━━━━\u001b[0m\u001b[37m\u001b[0m \u001b[1m16s\u001b[0m 57ms/step - loss: 0.0373 - root_mean_squared_error: 0.1744 - val_loss: 2.1136e-04 - val_root_mean_squared_error: 0.0145\n",
      "Epoch 2/50\n",
      "\u001b[1m153/153\u001b[0m \u001b[32m━━━━━━━━━━━━━━━━━━━━\u001b[0m\u001b[37m\u001b[0m \u001b[1m10s\u001b[0m 67ms/step - loss: 9.0926e-04 - root_mean_squared_error: 0.0301 - val_loss: 2.3579e-04 - val_root_mean_squared_error: 0.0154\n",
      "Epoch 3/50\n",
      "\u001b[1m153/153\u001b[0m \u001b[32m━━━━━━━━━━━━━━━━━━━━\u001b[0m\u001b[37m\u001b[0m \u001b[1m9s\u001b[0m 56ms/step - loss: 5.5124e-04 - root_mean_squared_error: 0.0235 - val_loss: 1.8521e-04 - val_root_mean_squared_error: 0.0136\n",
      "Epoch 4/50\n",
      "\u001b[1m153/153\u001b[0m \u001b[32m━━━━━━━━━━━━━━━━━━━━\u001b[0m\u001b[37m\u001b[0m \u001b[1m8s\u001b[0m 50ms/step - loss: 4.2209e-04 - root_mean_squared_error: 0.0205 - val_loss: 2.2054e-04 - val_root_mean_squared_error: 0.0149\n",
      "Epoch 5/50\n",
      "\u001b[1m153/153\u001b[0m \u001b[32m━━━━━━━━━━━━━━━━━━━━\u001b[0m\u001b[37m\u001b[0m \u001b[1m8s\u001b[0m 50ms/step - loss: 3.5731e-04 - root_mean_squared_error: 0.0189 - val_loss: 1.5010e-04 - val_root_mean_squared_error: 0.0123\n",
      "Epoch 6/50\n",
      "\u001b[1m153/153\u001b[0m \u001b[32m━━━━━━━━━━━━━━━━━━━━\u001b[0m\u001b[37m\u001b[0m \u001b[1m8s\u001b[0m 50ms/step - loss: 3.0203e-04 - root_mean_squared_error: 0.0174 - val_loss: 1.4413e-04 - val_root_mean_squared_error: 0.0120\n",
      "Epoch 7/50\n",
      "\u001b[1m153/153\u001b[0m \u001b[32m━━━━━━━━━━━━━━━━━━━━\u001b[0m\u001b[37m\u001b[0m \u001b[1m8s\u001b[0m 49ms/step - loss: 3.0402e-04 - root_mean_squared_error: 0.0174 - val_loss: 1.6456e-04 - val_root_mean_squared_error: 0.0128\n",
      "Epoch 8/50\n",
      "\u001b[1m153/153\u001b[0m \u001b[32m━━━━━━━━━━━━━━━━━━━━\u001b[0m\u001b[37m\u001b[0m \u001b[1m8s\u001b[0m 51ms/step - loss: 2.6298e-04 - root_mean_squared_error: 0.0162 - val_loss: 1.3835e-04 - val_root_mean_squared_error: 0.0118\n",
      "Epoch 9/50\n",
      "\u001b[1m153/153\u001b[0m \u001b[32m━━━━━━━━━━━━━━━━━━━━\u001b[0m\u001b[37m\u001b[0m \u001b[1m8s\u001b[0m 52ms/step - loss: 2.4793e-04 - root_mean_squared_error: 0.0157 - val_loss: 1.5000e-04 - val_root_mean_squared_error: 0.0122\n",
      "Epoch 10/50\n",
      "\u001b[1m153/153\u001b[0m \u001b[32m━━━━━━━━━━━━━━━━━━━━\u001b[0m\u001b[37m\u001b[0m \u001b[1m8s\u001b[0m 49ms/step - loss: 2.5047e-04 - root_mean_squared_error: 0.0158 - val_loss: 2.4925e-04 - val_root_mean_squared_error: 0.0158\n",
      "Epoch 11/50\n",
      "\u001b[1m153/153\u001b[0m \u001b[32m━━━━━━━━━━━━━━━━━━━━\u001b[0m\u001b[37m\u001b[0m \u001b[1m8s\u001b[0m 51ms/step - loss: 2.4465e-04 - root_mean_squared_error: 0.0156 - val_loss: 3.5448e-04 - val_root_mean_squared_error: 0.0188\n",
      "Epoch 12/50\n",
      "\u001b[1m153/153\u001b[0m \u001b[32m━━━━━━━━━━━━━━━━━━━━\u001b[0m\u001b[37m\u001b[0m \u001b[1m8s\u001b[0m 50ms/step - loss: 2.4636e-04 - root_mean_squared_error: 0.0157 - val_loss: 1.3882e-04 - val_root_mean_squared_error: 0.0118\n",
      "Epoch 13/50\n",
      "\u001b[1m153/153\u001b[0m \u001b[32m━━━━━━━━━━━━━━━━━━━━\u001b[0m\u001b[37m\u001b[0m \u001b[1m8s\u001b[0m 52ms/step - loss: 2.6282e-04 - root_mean_squared_error: 0.0162 - val_loss: 2.2800e-04 - val_root_mean_squared_error: 0.0151\n"
     ]
    }
   ],
   "source": [
    "early_stop = EarlyStopping(\n",
    "    monitor='val_loss',\n",
    "    patience=5,\n",
    "    restore_best_weights=True\n",
    ")\n",
    "\n",
    "history = model.fit(\n",
    "    X_train, y_train,\n",
    "    validation_data=(X_val, y_val),\n",
    "    epochs=50,\n",
    "    batch_size=64,\n",
    "    callbacks=[early_stop],\n",
    "    verbose=1\n",
    ")"
   ]
  },
  {
   "cell_type": "markdown",
   "id": "4c0043c7",
   "metadata": {},
   "source": [
    "## **Evaluating the model**"
   ]
  },
  {
   "cell_type": "markdown",
   "id": "d03a41bb",
   "metadata": {},
   "source": [
    "We predict `log_BTC` at time $t + 1$. We add dummy columns to match the original feature shape. Finally, we invert the `MinMaxScaler` to return to original scale."
   ]
  },
  {
   "cell_type": "code",
   "execution_count": 15,
   "id": "b61f1fa8",
   "metadata": {},
   "outputs": [
    {
     "name": "stdout",
     "output_type": "stream",
     "text": [
      "\u001b[1m65/65\u001b[0m \u001b[32m━━━━━━━━━━━━━━━━━━━━\u001b[0m\u001b[37m\u001b[0m \u001b[1m2s\u001b[0m 16ms/step\n"
     ]
    }
   ],
   "source": [
    "y_pred_scaled = model.predict(X_test).flatten()\n",
    "\n",
    "n_features = X_test.shape[2]\n",
    "y_pred_full = np.column_stack([y_pred_scaled] + [np.zeros_like(y_pred_scaled) for _ in range(n_features - 1)])\n",
    "y_true_full = np.column_stack([y_test] + [np.zeros_like(y_test) for _ in range(n_features - 1)])\n",
    "\n",
    "y_pred_inversed = scaler.inverse_transform(y_pred_full)[:, 0]\n",
    "y_true_inversed = scaler.inverse_transform(y_true_full)[:, 0]"
   ]
  },
  {
   "cell_type": "code",
   "execution_count": 16,
   "id": "78d43365",
   "metadata": {},
   "outputs": [
    {
     "name": "stdout",
     "output_type": "stream",
     "text": [
      "RMSE: 0.0423\n",
      "MAE: 0.0346\n",
      "R² : 0.9452\n"
     ]
    }
   ],
   "source": [
    "rmse = np.sqrt(mean_squared_error(y_true_inversed, y_pred_inversed))\n",
    "mae = mean_absolute_error(y_true_inversed, y_pred_inversed)\n",
    "r2 = r2_score(y_true_inversed, y_pred_inversed)\n",
    "\n",
    "print(f\"RMSE: {rmse:.4f}\")\n",
    "print(f\"MAE: {mae:.4f}\")\n",
    "print(f\"R² : {r2:.4f}\")"
   ]
  },
  {
   "cell_type": "code",
   "execution_count": 17,
   "id": "02a17ba0",
   "metadata": {},
   "outputs": [
    {
     "data": {
      "image/png": "[encoded data removed]",
      "text/plain": [
       "<Figure size 1200x500 with 1 Axes>"
      ]
     },
     "metadata": {},
     "output_type": "display_data"
    }
   ],
   "source": [
    "plt.figure(figsize=(12, 5))\n",
    "plt.plot(y_true_inversed[:200], label=\"True log_BTC\", linewidth=2)\n",
    "plt.plot(y_pred_inversed[:200], label=\"Prediction\", linewidth=2)\n",
    "plt.title(\"Comparing 200 first predictions (test set)\")\n",
    "plt.xlabel(\"Hours\")\n",
    "plt.ylabel(\"Log-price of BTC\")\n",
    "plt.legend()\n",
    "plt.grid(True)\n",
    "plt.tight_layout()\n",
    "plt.show()"
   ]
  },
  {
   "cell_type": "markdown",
   "id": "d55c1f68",
   "metadata": {},
   "source": [
    "## **Trying other lenghts of windows**"
   ]
  },
  {
   "cell_type": "code",
   "execution_count": 20,
   "id": "057ea6c0",
   "metadata": {},
   "outputs": [
    {
     "name": "stdout",
     "output_type": "stream",
     "text": [
      "\n",
      "---> Testing window of length 8 hours.\n",
      "window of 8 hours --- RMSE = 0.0554, MAE = 0.0450, R² = 0.9072\n",
      "\n",
      "---> Testing window of length 10 hours.\n",
      "window of 10 hours --- RMSE = 0.0538, MAE = 0.0438, R² = 0.9121\n",
      "\n",
      "---> Testing window of length 12 hours.\n",
      "window of 12 hours --- RMSE = 0.0632, MAE = 0.0513, R² = 0.8788\n",
      "\n",
      "---> Testing window of length 14 hours.\n",
      "window of 14 hours --- RMSE = 0.0552, MAE = 0.0447, R² = 0.9073\n",
      "\n",
      "---> Testing window of length 16 hours.\n",
      "window of 16 hours --- RMSE = 0.0631, MAE = 0.0508, R² = 0.8787\n",
      "\n",
      "---> Testing window of length 24 hours.\n",
      "window of 24 hours --- RMSE = 0.0502, MAE = 0.0398, R² = 0.9228\n",
      "\n",
      "---> Testing window of length 48 hours.\n",
      "window of 48 hours --- RMSE = 0.0604, MAE = 0.0503, R² = 0.8859\n",
      "\n",
      "---> Testing window of length 72 hours.\n",
      "window of 72 hours --- RMSE = 0.0562, MAE = 0.0464, R² = 0.8995\n"
     ]
    }
   ],
   "source": [
    "for window in [8, 10, 12, 14, 16, 24, 48, 72]:\n",
    "    print(f\"\\n---> Testing window of length {window} hours.\")\n",
    "\n",
    "    X_train, y_train = create_sequences(train_scaled, window)\n",
    "    X_val, y_val = create_sequences(val_scaled, window)\n",
    "    X_test, y_test = create_sequences(test_scaled, window)\n",
    "\n",
    "    model = models.Sequential([\n",
    "        layers.Input(shape=(window, X_train.shape[2])),\n",
    "        layers.LSTM(64, return_sequences=True),\n",
    "        layers.Dropout(0.2),\n",
    "        layers.LSTM(32),\n",
    "        layers.Dense(1)\n",
    "    ])\n",
    "    model.compile(optimizer='adam',\n",
    "                  loss='mse',\n",
    "                  metrics=[tf.keras.metrics.RootMeanSquaredError()])\n",
    "\n",
    "    es = callbacks.EarlyStopping(patience=5,\n",
    "                                 restore_best_weights=True,\n",
    "                                 monitor='val_loss')\n",
    "\n",
    "    model.fit(X_train, y_train,\n",
    "              validation_data=(X_val, y_val),\n",
    "              epochs=50,\n",
    "              batch_size=64,\n",
    "              callbacks=[es],\n",
    "              verbose=0)\n",
    "\n",
    "    y_pred_scaled = model.predict(X_test, verbose=0).flatten()\n",
    "\n",
    "    n_features = X_test.shape[2]\n",
    "    y_pred_full = np.column_stack([y_pred_scaled] + [np.zeros_like(y_pred_scaled) for _ in range(n_features - 1)])\n",
    "    y_true_full = np.column_stack([y_test] + [np.zeros_like(y_test) for _ in range(n_features - 1)])\n",
    "    y_pred_inversed = scaler.inverse_transform(y_pred_full)[:, 0]\n",
    "    y_true_inversed = scaler.inverse_transform(y_true_full)[:, 0]\n",
    "\n",
    "    rmse = np.sqrt(mean_squared_error(y_true_inversed, y_pred_inversed))\n",
    "    mae = mean_absolute_error(y_true_inversed, y_pred_inversed)\n",
    "    r2 = r2_score(y_true_inversed, y_pred_inversed)\n",
    "\n",
    "    print(f\"window of {window} hours --- RMSE = {rmse:.4f}, MAE = {mae:.4f}, R² = {r2:.4f}\")"
   ]
  },
  {
   "cell_type": "markdown",
   "id": "24798dd5",
   "metadata": {},
   "source": [
    "We observe quite similar predictions except for 48h and 72h which are worse than the other lengths."
   ]
  }
 ],
 "metadata": {
  "kernelspec": {
   "display_name": "venv",
   "language": "python",
   "name": "python3"
  },
  "language_info": {
   "codemirror_mode": {
    "name": "ipython",
    "version": 3
   },
   "file_extension": ".py",
   "mimetype": "text/x-python",
   "name": "python",
   "nbconvert_exporter": "python",
   "pygments_lexer": "ipython3",
   "version": "3.11.0"
  }
 },
 "nbformat": 4,
 "nbformat_minor": 5
}
