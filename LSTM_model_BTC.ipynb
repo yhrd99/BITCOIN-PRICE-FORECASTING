{
 "cells": [
  {
   "cell_type": "markdown",
   "id": "d8622a63",
   "metadata": {},
   "source": [
    "# **Implementation of Long-Short Term Memory model**"
   ]
  },
  {
   "cell_type": "markdown",
   "id": "eed938d6",
   "metadata": {},
   "source": [
    "## **Formating the data**"
   ]
  },
  {
   "cell_type": "code",
   "execution_count": null,
   "id": "ed4f5a03",
   "metadata": {},
   "outputs": [],
   "source": [
    "# pip install pandas, numpy, scikit-learn, tensorflow, matplotlib\n",
    "import pandas as pd\n",
    "import numpy as np\n",
    "import matplotlib.pyplot as plt\n",
    "from sklearn.preprocessing import StandardScaler\n",
    "from sklearn.metrics import mean_squared_error, mean_absolute_error\n",
    "from sklearn.metrics import r2_score\n",
    "import tensorflow as tf\n",
    "from tensorflow.keras import layers, models, callbacks\n",
    "from tensorflow.keras.callbacks import EarlyStopping"
   ]
  },
  {
   "cell_type": "code",
   "execution_count": 2,
   "id": "4c60ba4f",
   "metadata": {},
   "outputs": [],
   "source": [
    "df_price = pd.read_pickle(\"hourly.pkl\")\n",
    "df_reserve = pd.read_pickle(\"reserve_features.pkl\")"
   ]
  },
  {
   "cell_type": "markdown",
   "id": "1b272fd1",
   "metadata": {},
   "source": [
    "We filter to keep only what regards bitcoin:"
   ]
  },
  {
   "cell_type": "code",
   "execution_count": 3,
   "id": "e299a047",
   "metadata": {},
   "outputs": [],
   "source": [
    "df_btc_price = df_price[df_price['reserve_name'] == 'Wrapped BTC']\n",
    "df_btc_reserve = df_reserve[df_reserve['reserve_name'] == 'Wrapped BTC']"
   ]
  },
  {
   "cell_type": "markdown",
   "id": "54605d33",
   "metadata": {},
   "source": [
    "We merge `df_btc_price` and `df_btc_reserve` on date:"
   ]
  },
  {
   "cell_type": "code",
   "execution_count": 4,
   "id": "f83ccf3d",
   "metadata": {},
   "outputs": [],
   "source": [
    "df = pd.merge(df_btc_price, df_btc_reserve, left_on='datetime', right_on='regular_datetime')"
   ]
  },
  {
   "cell_type": "markdown",
   "id": "dec73d8f",
   "metadata": {},
   "source": [
    "We sort by date, remove duplicates et uninteresting variables:"
   ]
  },
  {
   "cell_type": "code",
   "execution_count": 5,
   "id": "b381a5ba",
   "metadata": {},
   "outputs": [],
   "source": [
    "# df = df[(df['datetime'] >= '2023-01-01') & (df['datetime'] < '2024-06-01')]\n",
    "\n",
    "df = df.sort_values('datetime')\n",
    "df = df.drop_duplicates(subset='datetime')\n",
    "cols_to_drop = [\n",
    "    'Unnamed: 0_x',\n",
    "    'Unnamed: 0_y',\n",
    "    'blockNumber',\n",
    "    'timestamp_hours',\n",
    "    'snapshot_timestamp',\n",
    "    'timestamp',\n",
    "    'outputTokenPriceUSD',\n",
    "    'totalPrincipalStableDebt',\n",
    "    'averageStableBorrowRate',\n",
    "    'priceInEth',\n",
    "    'priceInUsd',\n",
    "    'reserve_decimals',\n",
    "    'true_value',\n",
    "    'reserve_name_x',\n",
    "    'reserve_name_y',\n",
    "    'regular_datetime'\n",
    "]\n",
    "df = df.drop(columns=[col for col in cols_to_drop if col in df.columns], errors='ignore')"
   ]
  },
  {
   "cell_type": "markdown",
   "id": "22a14013",
   "metadata": {},
   "source": [
    "We define the variables: logarithm of price of bitcoin, and logarithm of `totalATokenSupply`, `totalLiquidity`, `availableLiquidity`:"
   ]
  },
  {
   "cell_type": "code",
   "execution_count": 6,
   "id": "df265dbd",
   "metadata": {},
   "outputs": [],
   "source": [
    "df['log_BTC'] = np.log(df['inputTokenPriceUSD'])\n",
    "\n",
    "for col in ['totalATokenSupply', 'totalLiquidity', 'availableLiquidity']:\n",
    "    if col in df.columns:\n",
    "        df[f'log_{col}'] = np.log(df[col] + 1e-8) # to avoid log(0)"
   ]
  },
  {
   "cell_type": "markdown",
   "id": "30c52ab3",
   "metadata": {},
   "source": [
    "We also approximate the percent change of each variable $X_t$ as the simple differences on its log-variable, namely $\\text{diff\\_log\\_} X_t := \\log(X_t) - \\log(X_{t - 1})$.\n",
    "\n",
    "This approximation is valid because $$\\text{diff\\_log\\_} X_t = \\log\\left(\\frac{X_t}{X_{t - 1}}\\right) \\approx \\frac{X_t}{X_{t - 1}} - 1 = \\frac{X_t - X_{t - 1}}{X_{t - 1}}$$ since $\\log(u) \\approx u - 1$ when $u \\approx 1$."
   ]
  },
  {
   "cell_type": "code",
   "execution_count": 7,
   "id": "630c9f98",
   "metadata": {},
   "outputs": [
    {
     "data": {
      "text/html": [
       "<div>\n",
       "<style scoped>\n",
       "    .dataframe tbody tr th:only-of-type {\n",
       "        vertical-align: middle;\n",
       "    }\n",
       "\n",
       "    .dataframe tbody tr th {\n",
       "        vertical-align: top;\n",
       "    }\n",
       "\n",
       "    .dataframe thead th {\n",
       "        text-align: right;\n",
       "    }\n",
       "</style>\n",
       "<table border=\"1\" class=\"dataframe\">\n",
       "  <thead>\n",
       "    <tr style=\"text-align: right;\">\n",
       "      <th></th>\n",
       "      <th>diff_log_BTC</th>\n",
       "      <th>diff_log_totalATokenSupply</th>\n",
       "      <th>diff_log_totalLiquidity</th>\n",
       "      <th>diff_log_availableLiquidity</th>\n",
       "    </tr>\n",
       "  </thead>\n",
       "  <tbody>\n",
       "    <tr>\n",
       "      <th>count</th>\n",
       "      <td>14022.000000</td>\n",
       "      <td>14022.000000</td>\n",
       "      <td>14022.000000</td>\n",
       "      <td>14022.000000</td>\n",
       "    </tr>\n",
       "    <tr>\n",
       "      <th>mean</th>\n",
       "      <td>0.000100</td>\n",
       "      <td>0.000783</td>\n",
       "      <td>0.000783</td>\n",
       "      <td>0.000778</td>\n",
       "    </tr>\n",
       "    <tr>\n",
       "      <th>std</th>\n",
       "      <td>0.005712</td>\n",
       "      <td>0.022182</td>\n",
       "      <td>0.022184</td>\n",
       "      <td>0.024222</td>\n",
       "    </tr>\n",
       "    <tr>\n",
       "      <th>min</th>\n",
       "      <td>-0.060709</td>\n",
       "      <td>-0.529520</td>\n",
       "      <td>-0.529555</td>\n",
       "      <td>-0.657475</td>\n",
       "    </tr>\n",
       "    <tr>\n",
       "      <th>25%</th>\n",
       "      <td>-0.001883</td>\n",
       "      <td>-0.000037</td>\n",
       "      <td>-0.000038</td>\n",
       "      <td>-0.000087</td>\n",
       "    </tr>\n",
       "    <tr>\n",
       "      <th>50%</th>\n",
       "      <td>0.000000</td>\n",
       "      <td>0.000019</td>\n",
       "      <td>0.000019</td>\n",
       "      <td>0.000026</td>\n",
       "    </tr>\n",
       "    <tr>\n",
       "      <th>75%</th>\n",
       "      <td>0.002174</td>\n",
       "      <td>0.000223</td>\n",
       "      <td>0.000222</td>\n",
       "      <td>0.000310</td>\n",
       "    </tr>\n",
       "    <tr>\n",
       "      <th>max</th>\n",
       "      <td>0.059685</td>\n",
       "      <td>1.499515</td>\n",
       "      <td>1.499515</td>\n",
       "      <td>1.499515</td>\n",
       "    </tr>\n",
       "  </tbody>\n",
       "</table>\n",
       "</div>"
      ],
      "text/plain": [
       "       diff_log_BTC  diff_log_totalATokenSupply  diff_log_totalLiquidity  \\\n",
       "count  14022.000000                14022.000000             14022.000000   \n",
       "mean       0.000100                    0.000783                 0.000783   \n",
       "std        0.005712                    0.022182                 0.022184   \n",
       "min       -0.060709                   -0.529520                -0.529555   \n",
       "25%       -0.001883                   -0.000037                -0.000038   \n",
       "50%        0.000000                    0.000019                 0.000019   \n",
       "75%        0.002174                    0.000223                 0.000222   \n",
       "max        0.059685                    1.499515                 1.499515   \n",
       "\n",
       "       diff_log_availableLiquidity  \n",
       "count                 14022.000000  \n",
       "mean                      0.000778  \n",
       "std                       0.024222  \n",
       "min                      -0.657475  \n",
       "25%                      -0.000087  \n",
       "50%                       0.000026  \n",
       "75%                       0.000310  \n",
       "max                       1.499515  "
      ]
     },
     "execution_count": 7,
     "metadata": {},
     "output_type": "execute_result"
    }
   ],
   "source": [
    "df['diff_log_BTC'] = df['log_BTC'].diff()\n",
    "df['diff_log_totalATokenSupply'] = df['log_totalATokenSupply'].diff()\n",
    "df['diff_log_totalLiquidity'] = df['log_totalLiquidity'].diff()\n",
    "df['diff_log_availableLiquidity'] = df['log_availableLiquidity'].diff()\n",
    "\n",
    "# Delete first line which contains NaN's because of diff()\n",
    "df = df.dropna(subset=['diff_log_BTC', 'diff_log_totalATokenSupply', 'diff_log_totalLiquidity', 'diff_log_availableLiquidity'])\n",
    "\n",
    "df[['diff_log_BTC', 'diff_log_totalATokenSupply', 'diff_log_totalLiquidity', 'diff_log_availableLiquidity']].describe()"
   ]
  },
  {
   "cell_type": "code",
   "execution_count": 8,
   "id": "95d8442f",
   "metadata": {},
   "outputs": [
    {
     "data": {
      "text/html": [
       "<div>\n",
       "<style scoped>\n",
       "    .dataframe tbody tr th:only-of-type {\n",
       "        vertical-align: middle;\n",
       "    }\n",
       "\n",
       "    .dataframe tbody tr th {\n",
       "        vertical-align: top;\n",
       "    }\n",
       "\n",
       "    .dataframe thead th {\n",
       "        text-align: right;\n",
       "    }\n",
       "</style>\n",
       "<table border=\"1\" class=\"dataframe\">\n",
       "  <thead>\n",
       "    <tr style=\"text-align: right;\">\n",
       "      <th></th>\n",
       "      <th>datetime</th>\n",
       "      <th>log_BTC</th>\n",
       "      <th>log_totalATokenSupply</th>\n",
       "      <th>log_totalLiquidity</th>\n",
       "      <th>log_availableLiquidity</th>\n",
       "    </tr>\n",
       "  </thead>\n",
       "  <tbody>\n",
       "    <tr>\n",
       "      <th>0</th>\n",
       "      <td>2023-01-27 13:00:00+00:00</td>\n",
       "      <td>10.038424</td>\n",
       "      <td>-0.263094</td>\n",
       "      <td>-0.263094</td>\n",
       "      <td>-0.263094</td>\n",
       "    </tr>\n",
       "    <tr>\n",
       "      <th>1</th>\n",
       "      <td>2023-01-27 14:00:00+00:00</td>\n",
       "      <td>10.036305</td>\n",
       "      <td>1.236421</td>\n",
       "      <td>1.236421</td>\n",
       "      <td>1.236421</td>\n",
       "    </tr>\n",
       "    <tr>\n",
       "      <th>2</th>\n",
       "      <td>2023-01-27 15:00:00+00:00</td>\n",
       "      <td>10.042360</td>\n",
       "      <td>1.660758</td>\n",
       "      <td>1.660758</td>\n",
       "      <td>1.660758</td>\n",
       "    </tr>\n",
       "    <tr>\n",
       "      <th>3</th>\n",
       "      <td>2023-01-27 16:00:00+00:00</td>\n",
       "      <td>10.043632</td>\n",
       "      <td>1.671224</td>\n",
       "      <td>1.671224</td>\n",
       "      <td>1.671224</td>\n",
       "    </tr>\n",
       "    <tr>\n",
       "      <th>4</th>\n",
       "      <td>2023-01-27 17:00:00+00:00</td>\n",
       "      <td>10.045688</td>\n",
       "      <td>1.660758</td>\n",
       "      <td>1.660758</td>\n",
       "      <td>1.660758</td>\n",
       "    </tr>\n",
       "  </tbody>\n",
       "</table>\n",
       "</div>"
      ],
      "text/plain": [
       "                   datetime    log_BTC  log_totalATokenSupply  \\\n",
       "0 2023-01-27 13:00:00+00:00  10.038424              -0.263094   \n",
       "1 2023-01-27 14:00:00+00:00  10.036305               1.236421   \n",
       "2 2023-01-27 15:00:00+00:00  10.042360               1.660758   \n",
       "3 2023-01-27 16:00:00+00:00  10.043632               1.671224   \n",
       "4 2023-01-27 17:00:00+00:00  10.045688               1.660758   \n",
       "\n",
       "   log_totalLiquidity  log_availableLiquidity  \n",
       "0           -0.263094               -0.263094  \n",
       "1            1.236421                1.236421  \n",
       "2            1.660758                1.660758  \n",
       "3            1.671224                1.671224  \n",
       "4            1.660758                1.660758  "
      ]
     },
     "execution_count": 8,
     "metadata": {},
     "output_type": "execute_result"
    }
   ],
   "source": [
    "df = df.dropna(subset=['log_BTC', 'log_totalATokenSupply', 'log_totalLiquidity', 'log_availableLiquidity'])\n",
    "df = df.reset_index(drop=True)\n",
    "df[['datetime', 'log_BTC', 'log_totalATokenSupply', 'log_totalLiquidity', 'log_availableLiquidity']].head()"
   ]
  },
  {
   "cell_type": "code",
   "execution_count": 9,
   "id": "0c42c732",
   "metadata": {},
   "outputs": [
    {
     "data": {
      "text/html": [
       "<div>\n",
       "<style scoped>\n",
       "    .dataframe tbody tr th:only-of-type {\n",
       "        vertical-align: middle;\n",
       "    }\n",
       "\n",
       "    .dataframe tbody tr th {\n",
       "        vertical-align: top;\n",
       "    }\n",
       "\n",
       "    .dataframe thead th {\n",
       "        text-align: right;\n",
       "    }\n",
       "</style>\n",
       "<table border=\"1\" class=\"dataframe\">\n",
       "  <thead>\n",
       "    <tr style=\"text-align: right;\">\n",
       "      <th></th>\n",
       "      <th>log_BTC</th>\n",
       "      <th>log_totalATokenSupply</th>\n",
       "      <th>log_totalLiquidity</th>\n",
       "      <th>log_availableLiquidity</th>\n",
       "      <th>diff_log_BTC</th>\n",
       "      <th>diff_log_totalATokenSupply</th>\n",
       "      <th>diff_log_totalLiquidity</th>\n",
       "      <th>diff_log_availableLiquidity</th>\n",
       "    </tr>\n",
       "  </thead>\n",
       "  <tbody>\n",
       "    <tr>\n",
       "      <th>0</th>\n",
       "      <td>10.038424</td>\n",
       "      <td>-0.263094</td>\n",
       "      <td>-0.263094</td>\n",
       "      <td>-0.263094</td>\n",
       "      <td>-0.000530</td>\n",
       "      <td>2.151608e-01</td>\n",
       "      <td>2.151608e-01</td>\n",
       "      <td>2.151608e-01</td>\n",
       "    </tr>\n",
       "    <tr>\n",
       "      <th>1</th>\n",
       "      <td>10.036305</td>\n",
       "      <td>1.236421</td>\n",
       "      <td>1.236421</td>\n",
       "      <td>1.236421</td>\n",
       "      <td>-0.002120</td>\n",
       "      <td>1.499515e+00</td>\n",
       "      <td>1.499515e+00</td>\n",
       "      <td>1.499515e+00</td>\n",
       "    </tr>\n",
       "    <tr>\n",
       "      <th>2</th>\n",
       "      <td>10.042360</td>\n",
       "      <td>1.660758</td>\n",
       "      <td>1.660758</td>\n",
       "      <td>1.660758</td>\n",
       "      <td>0.006055</td>\n",
       "      <td>4.243365e-01</td>\n",
       "      <td>4.243365e-01</td>\n",
       "      <td>4.243365e-01</td>\n",
       "    </tr>\n",
       "    <tr>\n",
       "      <th>3</th>\n",
       "      <td>10.043632</td>\n",
       "      <td>1.671224</td>\n",
       "      <td>1.671224</td>\n",
       "      <td>1.671224</td>\n",
       "      <td>0.001272</td>\n",
       "      <td>1.046650e-02</td>\n",
       "      <td>1.046650e-02</td>\n",
       "      <td>1.046650e-02</td>\n",
       "    </tr>\n",
       "    <tr>\n",
       "      <th>4</th>\n",
       "      <td>10.045688</td>\n",
       "      <td>1.660758</td>\n",
       "      <td>1.660758</td>\n",
       "      <td>1.660758</td>\n",
       "      <td>0.002057</td>\n",
       "      <td>-1.046650e-02</td>\n",
       "      <td>-1.046650e-02</td>\n",
       "      <td>-1.046650e-02</td>\n",
       "    </tr>\n",
       "    <tr>\n",
       "      <th>...</th>\n",
       "      <td>...</td>\n",
       "      <td>...</td>\n",
       "      <td>...</td>\n",
       "      <td>...</td>\n",
       "      <td>...</td>\n",
       "      <td>...</td>\n",
       "      <td>...</td>\n",
       "      <td>...</td>\n",
       "    </tr>\n",
       "    <tr>\n",
       "      <th>14017</th>\n",
       "      <td>11.448489</td>\n",
       "      <td>10.507687</td>\n",
       "      <td>10.505377</td>\n",
       "      <td>10.427871</td>\n",
       "      <td>0.001481</td>\n",
       "      <td>-1.907344e-04</td>\n",
       "      <td>-1.911956e-04</td>\n",
       "      <td>-2.030515e-04</td>\n",
       "    </tr>\n",
       "    <tr>\n",
       "      <th>14018</th>\n",
       "      <td>11.448489</td>\n",
       "      <td>10.507601</td>\n",
       "      <td>10.505292</td>\n",
       "      <td>10.427447</td>\n",
       "      <td>0.000000</td>\n",
       "      <td>-8.521763e-05</td>\n",
       "      <td>-8.542323e-05</td>\n",
       "      <td>-4.242535e-04</td>\n",
       "    </tr>\n",
       "    <tr>\n",
       "      <th>14019</th>\n",
       "      <td>11.443274</td>\n",
       "      <td>10.507358</td>\n",
       "      <td>10.505048</td>\n",
       "      <td>10.426645</td>\n",
       "      <td>-0.005214</td>\n",
       "      <td>-2.430528e-04</td>\n",
       "      <td>-2.436295e-04</td>\n",
       "      <td>-8.017045e-04</td>\n",
       "    </tr>\n",
       "    <tr>\n",
       "      <th>14020</th>\n",
       "      <td>11.445853</td>\n",
       "      <td>10.507359</td>\n",
       "      <td>10.505049</td>\n",
       "      <td>10.426646</td>\n",
       "      <td>0.002579</td>\n",
       "      <td>5.715805e-07</td>\n",
       "      <td>5.458733e-07</td>\n",
       "      <td>5.755779e-07</td>\n",
       "    </tr>\n",
       "    <tr>\n",
       "      <th>14021</th>\n",
       "      <td>11.442529</td>\n",
       "      <td>10.507274</td>\n",
       "      <td>10.504964</td>\n",
       "      <td>10.426552</td>\n",
       "      <td>-0.003324</td>\n",
       "      <td>-8.502103e-05</td>\n",
       "      <td>-8.523262e-05</td>\n",
       "      <td>-9.351798e-05</td>\n",
       "    </tr>\n",
       "  </tbody>\n",
       "</table>\n",
       "<p>14022 rows × 8 columns</p>\n",
       "</div>"
      ],
      "text/plain": [
       "         log_BTC  log_totalATokenSupply  log_totalLiquidity  \\\n",
       "0      10.038424              -0.263094           -0.263094   \n",
       "1      10.036305               1.236421            1.236421   \n",
       "2      10.042360               1.660758            1.660758   \n",
       "3      10.043632               1.671224            1.671224   \n",
       "4      10.045688               1.660758            1.660758   \n",
       "...          ...                    ...                 ...   \n",
       "14017  11.448489              10.507687           10.505377   \n",
       "14018  11.448489              10.507601           10.505292   \n",
       "14019  11.443274              10.507358           10.505048   \n",
       "14020  11.445853              10.507359           10.505049   \n",
       "14021  11.442529              10.507274           10.504964   \n",
       "\n",
       "       log_availableLiquidity  diff_log_BTC  diff_log_totalATokenSupply  \\\n",
       "0                   -0.263094     -0.000530                2.151608e-01   \n",
       "1                    1.236421     -0.002120                1.499515e+00   \n",
       "2                    1.660758      0.006055                4.243365e-01   \n",
       "3                    1.671224      0.001272                1.046650e-02   \n",
       "4                    1.660758      0.002057               -1.046650e-02   \n",
       "...                       ...           ...                         ...   \n",
       "14017               10.427871      0.001481               -1.907344e-04   \n",
       "14018               10.427447      0.000000               -8.521763e-05   \n",
       "14019               10.426645     -0.005214               -2.430528e-04   \n",
       "14020               10.426646      0.002579                5.715805e-07   \n",
       "14021               10.426552     -0.003324               -8.502103e-05   \n",
       "\n",
       "       diff_log_totalLiquidity  diff_log_availableLiquidity  \n",
       "0                 2.151608e-01                 2.151608e-01  \n",
       "1                 1.499515e+00                 1.499515e+00  \n",
       "2                 4.243365e-01                 4.243365e-01  \n",
       "3                 1.046650e-02                 1.046650e-02  \n",
       "4                -1.046650e-02                -1.046650e-02  \n",
       "...                        ...                          ...  \n",
       "14017            -1.911956e-04                -2.030515e-04  \n",
       "14018            -8.542323e-05                -4.242535e-04  \n",
       "14019            -2.436295e-04                -8.017045e-04  \n",
       "14020             5.458733e-07                 5.755779e-07  \n",
       "14021            -8.523262e-05                -9.351798e-05  \n",
       "\n",
       "[14022 rows x 8 columns]"
      ]
     },
     "execution_count": 9,
     "metadata": {},
     "output_type": "execute_result"
    }
   ],
   "source": [
    "feature_cols = [\n",
    "    'log_BTC', 'log_totalATokenSupply', 'log_totalLiquidity', 'log_availableLiquidity',\n",
    "    'diff_log_BTC', 'diff_log_totalATokenSupply', 'diff_log_totalLiquidity', 'diff_log_availableLiquidity'\n",
    "]\n",
    "target_col = 'log_BTC'\n",
    "df_model = df[feature_cols].copy()\n",
    "df_model"
   ]
  },
  {
   "cell_type": "markdown",
   "id": "08eea1b7",
   "metadata": {},
   "source": [
    "We split the data chronologically: Train = 70 %, Validation = 15 %, Test = 15 % :"
   ]
  },
  {
   "cell_type": "code",
   "execution_count": 10,
   "id": "ebe60e71",
   "metadata": {},
   "outputs": [],
   "source": [
    "n = len(df_model)\n",
    "train_size = int(0.70 * n)\n",
    "val_size = int(0.15 * n)\n",
    "\n",
    "train_df = df_model.iloc[:train_size]\n",
    "val_df = df_model.iloc[train_size:train_size+val_size]\n",
    "test_df = df_model.iloc[train_size+val_size:]"
   ]
  },
  {
   "cell_type": "markdown",
   "id": "df72da9e",
   "metadata": {},
   "source": [
    "We normalize the features $x$ using the formula\n",
    "$$x_{\\text{standard}} = \\frac{x - \\mu_{\\text{train}}}{\\sigma_{\\text{train}}}$$\n",
    "\n",
    "We fit the scaler on the training set and we apply the transformation to the validation and test sets:"
   ]
  },
  {
   "cell_type": "code",
   "execution_count": 11,
   "id": "7b045423",
   "metadata": {},
   "outputs": [],
   "source": [
    "scaler = StandardScaler()\n",
    "\n",
    "train_scaled = scaler.fit_transform(train_df)\n",
    "\n",
    "val_scaled = scaler.transform(val_df)\n",
    "test_scaled = scaler.transform(test_df)"
   ]
  },
  {
   "cell_type": "markdown",
   "id": "9017b754",
   "metadata": {},
   "source": [
    "## **Constructing the sequences**\n",
    "\n",
    "We create fixed-length sliding windows/sequences:"
   ]
  },
  {
   "cell_type": "code",
   "execution_count": 12,
   "id": "050513eb",
   "metadata": {},
   "outputs": [],
   "source": [
    "def create_sequences(data, window=24, horizon=1):\n",
    "    X, y = [], []\n",
    "    for i in range(len(data) - window - horizon + 1):\n",
    "        X.append(data[i:i+window])\n",
    "        y.append(data[i+window+horizon-1][0]) # 0 = log_BTC\n",
    "    return np.array(X), np.array(y)"
   ]
  },
  {
   "cell_type": "markdown",
   "id": "dfd723cb",
   "metadata": {},
   "source": [
    "We'll start testing it with a window of size 24 hours and we predict one step ahead (`HORIZON = 1`):"
   ]
  },
  {
   "cell_type": "code",
   "execution_count": 13,
   "id": "80dd11b8",
   "metadata": {},
   "outputs": [
    {
     "data": {
      "text/plain": [
       "((9791, 24, 8), (9791,))"
      ]
     },
     "execution_count": 13,
     "metadata": {},
     "output_type": "execute_result"
    }
   ],
   "source": [
    "WINDOW = 24\n",
    "HORIZON = 1\n",
    "\n",
    "X_train, y_train = create_sequences(train_scaled, WINDOW, HORIZON)\n",
    "X_val, y_val = create_sequences(val_scaled, WINDOW, HORIZON)\n",
    "X_test, y_test = create_sequences(test_scaled, WINDOW, HORIZON)\n",
    "\n",
    "X_train.shape, y_train.shape"
   ]
  },
  {
   "cell_type": "markdown",
   "id": "f22da3b8",
   "metadata": {},
   "source": [
    "## **Constructing the LSTM model**"
   ]
  },
  {
   "cell_type": "code",
   "execution_count": 14,
   "id": "65297616",
   "metadata": {},
   "outputs": [
    {
     "data": {
      "text/html": [
       "<pre style=\"white-space:pre;overflow-x:auto;line-height:normal;font-family:Menlo,'DejaVu Sans Mono',consolas,'Courier New',monospace\"><span style=\"font-weight: bold\">Model: \"sequential\"</span>\n",
       "</pre>\n"
      ],
      "text/plain": [
       "\u001b[1mModel: \"sequential\"\u001b[0m\n"
      ]
     },
     "metadata": {},
     "output_type": "display_data"
    },
    {
     "data": {
      "text/html": [
       "<pre style=\"white-space:pre;overflow-x:auto;line-height:normal;font-family:Menlo,'DejaVu Sans Mono',consolas,'Courier New',monospace\">┏━━━━━━━━━━━━━━━━━━━━━━━━━━━━━━━━━┳━━━━━━━━━━━━━━━━━━━━━━━━┳━━━━━━━━━━━━━━━┓\n",
       "┃<span style=\"font-weight: bold\"> Layer (type)                    </span>┃<span style=\"font-weight: bold\"> Output Shape           </span>┃<span style=\"font-weight: bold\">       Param # </span>┃\n",
       "┡━━━━━━━━━━━━━━━━━━━━━━━━━━━━━━━━━╇━━━━━━━━━━━━━━━━━━━━━━━━╇━━━━━━━━━━━━━━━┩\n",
       "│ lstm (<span style=\"color: #0087ff; text-decoration-color: #0087ff\">LSTM</span>)                     │ (<span style=\"color: #00d7ff; text-decoration-color: #00d7ff\">None</span>, <span style=\"color: #00af00; text-decoration-color: #00af00\">24</span>, <span style=\"color: #00af00; text-decoration-color: #00af00\">64</span>)         │        <span style=\"color: #00af00; text-decoration-color: #00af00\">18,688</span> │\n",
       "├─────────────────────────────────┼────────────────────────┼───────────────┤\n",
       "│ dropout (<span style=\"color: #0087ff; text-decoration-color: #0087ff\">Dropout</span>)               │ (<span style=\"color: #00d7ff; text-decoration-color: #00d7ff\">None</span>, <span style=\"color: #00af00; text-decoration-color: #00af00\">24</span>, <span style=\"color: #00af00; text-decoration-color: #00af00\">64</span>)         │             <span style=\"color: #00af00; text-decoration-color: #00af00\">0</span> │\n",
       "├─────────────────────────────────┼────────────────────────┼───────────────┤\n",
       "│ lstm_1 (<span style=\"color: #0087ff; text-decoration-color: #0087ff\">LSTM</span>)                   │ (<span style=\"color: #00d7ff; text-decoration-color: #00d7ff\">None</span>, <span style=\"color: #00af00; text-decoration-color: #00af00\">32</span>)             │        <span style=\"color: #00af00; text-decoration-color: #00af00\">12,416</span> │\n",
       "├─────────────────────────────────┼────────────────────────┼───────────────┤\n",
       "│ dense (<span style=\"color: #0087ff; text-decoration-color: #0087ff\">Dense</span>)                   │ (<span style=\"color: #00d7ff; text-decoration-color: #00d7ff\">None</span>, <span style=\"color: #00af00; text-decoration-color: #00af00\">1</span>)              │            <span style=\"color: #00af00; text-decoration-color: #00af00\">33</span> │\n",
       "└─────────────────────────────────┴────────────────────────┴───────────────┘\n",
       "</pre>\n"
      ],
      "text/plain": [
       "┏━━━━━━━━━━━━━━━━━━━━━━━━━━━━━━━━━┳━━━━━━━━━━━━━━━━━━━━━━━━┳━━━━━━━━━━━━━━━┓\n",
       "┃\u001b[1m \u001b[0m\u001b[1mLayer (type)                   \u001b[0m\u001b[1m \u001b[0m┃\u001b[1m \u001b[0m\u001b[1mOutput Shape          \u001b[0m\u001b[1m \u001b[0m┃\u001b[1m \u001b[0m\u001b[1m      Param #\u001b[0m\u001b[1m \u001b[0m┃\n",
       "┡━━━━━━━━━━━━━━━━━━━━━━━━━━━━━━━━━╇━━━━━━━━━━━━━━━━━━━━━━━━╇━━━━━━━━━━━━━━━┩\n",
       "│ lstm (\u001b[38;5;33mLSTM\u001b[0m)                     │ (\u001b[38;5;45mNone\u001b[0m, \u001b[38;5;34m24\u001b[0m, \u001b[38;5;34m64\u001b[0m)         │        \u001b[38;5;34m18,688\u001b[0m │\n",
       "├─────────────────────────────────┼────────────────────────┼───────────────┤\n",
       "│ dropout (\u001b[38;5;33mDropout\u001b[0m)               │ (\u001b[38;5;45mNone\u001b[0m, \u001b[38;5;34m24\u001b[0m, \u001b[38;5;34m64\u001b[0m)         │             \u001b[38;5;34m0\u001b[0m │\n",
       "├─────────────────────────────────┼────────────────────────┼───────────────┤\n",
       "│ lstm_1 (\u001b[38;5;33mLSTM\u001b[0m)                   │ (\u001b[38;5;45mNone\u001b[0m, \u001b[38;5;34m32\u001b[0m)             │        \u001b[38;5;34m12,416\u001b[0m │\n",
       "├─────────────────────────────────┼────────────────────────┼───────────────┤\n",
       "│ dense (\u001b[38;5;33mDense\u001b[0m)                   │ (\u001b[38;5;45mNone\u001b[0m, \u001b[38;5;34m1\u001b[0m)              │            \u001b[38;5;34m33\u001b[0m │\n",
       "└─────────────────────────────────┴────────────────────────┴───────────────┘\n"
      ]
     },
     "metadata": {},
     "output_type": "display_data"
    },
    {
     "data": {
      "text/html": [
       "<pre style=\"white-space:pre;overflow-x:auto;line-height:normal;font-family:Menlo,'DejaVu Sans Mono',consolas,'Courier New',monospace\"><span style=\"font-weight: bold\"> Total params: </span><span style=\"color: #00af00; text-decoration-color: #00af00\">31,137</span> (121.63 KB)\n",
       "</pre>\n"
      ],
      "text/plain": [
       "\u001b[1m Total params: \u001b[0m\u001b[38;5;34m31,137\u001b[0m (121.63 KB)\n"
      ]
     },
     "metadata": {},
     "output_type": "display_data"
    },
    {
     "data": {
      "text/html": [
       "<pre style=\"white-space:pre;overflow-x:auto;line-height:normal;font-family:Menlo,'DejaVu Sans Mono',consolas,'Courier New',monospace\"><span style=\"font-weight: bold\"> Trainable params: </span><span style=\"color: #00af00; text-decoration-color: #00af00\">31,137</span> (121.63 KB)\n",
       "</pre>\n"
      ],
      "text/plain": [
       "\u001b[1m Trainable params: \u001b[0m\u001b[38;5;34m31,137\u001b[0m (121.63 KB)\n"
      ]
     },
     "metadata": {},
     "output_type": "display_data"
    },
    {
     "data": {
      "text/html": [
       "<pre style=\"white-space:pre;overflow-x:auto;line-height:normal;font-family:Menlo,'DejaVu Sans Mono',consolas,'Courier New',monospace\"><span style=\"font-weight: bold\"> Non-trainable params: </span><span style=\"color: #00af00; text-decoration-color: #00af00\">0</span> (0.00 B)\n",
       "</pre>\n"
      ],
      "text/plain": [
       "\u001b[1m Non-trainable params: \u001b[0m\u001b[38;5;34m0\u001b[0m (0.00 B)\n"
      ]
     },
     "metadata": {},
     "output_type": "display_data"
    }
   ],
   "source": [
    "input_shape = X_train.shape[1:] # (24, 4)\n",
    "\n",
    "model = models.Sequential([\n",
    "    layers.Input(shape=input_shape),\n",
    "    layers.LSTM(64, return_sequences=True),\n",
    "    layers.Dropout(0.2),\n",
    "    layers.LSTM(32),\n",
    "    layers.Dense(1) # predicts log_BTC at time t+1\n",
    "])\n",
    "\n",
    "model.compile(\n",
    "    optimizer=tf.keras.optimizers.Adam(learning_rate=1e-3),\n",
    "    loss='mse',\n",
    "    metrics=[tf.keras.metrics.RootMeanSquaredError()]\n",
    ")\n",
    "\n",
    "model.summary()"
   ]
  },
  {
   "cell_type": "markdown",
   "id": "7ec69ff5",
   "metadata": {},
   "source": [
    "## **Training the model**"
   ]
  },
  {
   "cell_type": "markdown",
   "id": "05413fdb",
   "metadata": {},
   "source": [
    "We create an 'early stopping callback' which stops training if `val_loss` no longer improves. Then we train the model:"
   ]
  },
  {
   "cell_type": "code",
   "execution_count": 15,
   "id": "2c78cf76",
   "metadata": {},
   "outputs": [
    {
     "name": "stdout",
     "output_type": "stream",
     "text": [
      "Epoch 1/50\n",
      "\u001b[1m153/153\u001b[0m \u001b[32m━━━━━━━━━━━━━━━━━━━━\u001b[0m\u001b[37m\u001b[0m \u001b[1m10s\u001b[0m 36ms/step - loss: 0.0893 - root_mean_squared_error: 0.2681 - val_loss: 0.0014 - val_root_mean_squared_error: 0.0377\n",
      "Epoch 2/50\n",
      "\u001b[1m153/153\u001b[0m \u001b[32m━━━━━━━━━━━━━━━━━━━━\u001b[0m\u001b[37m\u001b[0m \u001b[1m5s\u001b[0m 33ms/step - loss: 0.0021 - root_mean_squared_error: 0.0459 - val_loss: 8.4678e-04 - val_root_mean_squared_error: 0.0291\n",
      "Epoch 3/50\n",
      "\u001b[1m153/153\u001b[0m \u001b[32m━━━━━━━━━━━━━━━━━━━━\u001b[0m\u001b[37m\u001b[0m \u001b[1m5s\u001b[0m 32ms/step - loss: 0.0014 - root_mean_squared_error: 0.0369 - val_loss: 4.5184e-04 - val_root_mean_squared_error: 0.0213\n",
      "Epoch 4/50\n",
      "\u001b[1m153/153\u001b[0m \u001b[32m━━━━━━━━━━━━━━━━━━━━\u001b[0m\u001b[37m\u001b[0m \u001b[1m5s\u001b[0m 35ms/step - loss: 0.0011 - root_mean_squared_error: 0.0332 - val_loss: 3.0060e-04 - val_root_mean_squared_error: 0.0173\n",
      "Epoch 5/50\n",
      "\u001b[1m153/153\u001b[0m \u001b[32m━━━━━━━━━━━━━━━━━━━━\u001b[0m\u001b[37m\u001b[0m \u001b[1m6s\u001b[0m 39ms/step - loss: 0.0010 - root_mean_squared_error: 0.0317 - val_loss: 5.6557e-04 - val_root_mean_squared_error: 0.0238\n",
      "Epoch 6/50\n",
      "\u001b[1m153/153\u001b[0m \u001b[32m━━━━━━━━━━━━━━━━━━━━\u001b[0m\u001b[37m\u001b[0m \u001b[1m6s\u001b[0m 39ms/step - loss: 0.0010 - root_mean_squared_error: 0.0318 - val_loss: 6.5697e-04 - val_root_mean_squared_error: 0.0256\n",
      "Epoch 7/50\n",
      "\u001b[1m153/153\u001b[0m \u001b[32m━━━━━━━━━━━━━━━━━━━━\u001b[0m\u001b[37m\u001b[0m \u001b[1m6s\u001b[0m 40ms/step - loss: 8.4439e-04 - root_mean_squared_error: 0.0290 - val_loss: 5.6163e-04 - val_root_mean_squared_error: 0.0237\n",
      "Epoch 8/50\n",
      "\u001b[1m153/153\u001b[0m \u001b[32m━━━━━━━━━━━━━━━━━━━━\u001b[0m\u001b[37m\u001b[0m \u001b[1m6s\u001b[0m 36ms/step - loss: 7.9664e-04 - root_mean_squared_error: 0.0282 - val_loss: 5.0686e-04 - val_root_mean_squared_error: 0.0225\n",
      "Epoch 9/50\n",
      "\u001b[1m153/153\u001b[0m \u001b[32m━━━━━━━━━━━━━━━━━━━━\u001b[0m\u001b[37m\u001b[0m \u001b[1m6s\u001b[0m 38ms/step - loss: 7.2137e-04 - root_mean_squared_error: 0.0268 - val_loss: 4.6205e-04 - val_root_mean_squared_error: 0.0215\n"
     ]
    }
   ],
   "source": [
    "early_stop = EarlyStopping(\n",
    "    monitor='val_loss',\n",
    "    patience=5,\n",
    "    restore_best_weights=True\n",
    ")\n",
    "\n",
    "history = model.fit(\n",
    "    X_train, y_train,\n",
    "    validation_data=(X_val, y_val),\n",
    "    epochs=50,\n",
    "    batch_size=64,\n",
    "    callbacks=[early_stop],\n",
    "    verbose=1\n",
    ")"
   ]
  },
  {
   "cell_type": "markdown",
   "id": "4c0043c7",
   "metadata": {},
   "source": [
    "## **Evaluating the model**"
   ]
  },
  {
   "cell_type": "markdown",
   "id": "d03a41bb",
   "metadata": {},
   "source": [
    "We predict `log_BTC` at time $t + 1$. We add dummy columns to match the original feature shape. Finally, we invert the scaler to return to original scale."
   ]
  },
  {
   "cell_type": "code",
   "execution_count": 16,
   "id": "b61f1fa8",
   "metadata": {},
   "outputs": [
    {
     "name": "stdout",
     "output_type": "stream",
     "text": [
      "\u001b[1m65/65\u001b[0m \u001b[32m━━━━━━━━━━━━━━━━━━━━\u001b[0m\u001b[37m\u001b[0m \u001b[1m1s\u001b[0m 11ms/step\n"
     ]
    }
   ],
   "source": [
    "y_pred_scaled = model.predict(X_test).flatten()\n",
    "\n",
    "n_features = X_test.shape[2]\n",
    "y_pred_full = np.column_stack([y_pred_scaled] + [np.zeros_like(y_pred_scaled) for _ in range(n_features - 1)])\n",
    "y_true_full = np.column_stack([y_test] + [np.zeros_like(y_test) for _ in range(n_features - 1)])\n",
    "\n",
    "y_pred_inversed = scaler.inverse_transform(y_pred_full)[:, 0]\n",
    "y_true_inversed = scaler.inverse_transform(y_true_full)[:, 0]"
   ]
  },
  {
   "cell_type": "code",
   "execution_count": 17,
   "id": "78d43365",
   "metadata": {},
   "outputs": [
    {
     "name": "stdout",
     "output_type": "stream",
     "text": [
      "RMSE: 0.1020\n",
      "MAE: 0.0784\n",
      "R² : 0.6811\n"
     ]
    }
   ],
   "source": [
    "rmse = np.sqrt(mean_squared_error(y_true_inversed, y_pred_inversed))\n",
    "mae = mean_absolute_error(y_true_inversed, y_pred_inversed)\n",
    "r2 = r2_score(y_true_inversed, y_pred_inversed)\n",
    "\n",
    "print(f\"RMSE: {rmse:.4f}\")\n",
    "print(f\"MAE: {mae:.4f}\")\n",
    "print(f\"R² : {r2:.4f}\")"
   ]
  },
  {
   "cell_type": "markdown",
   "id": "955a39a0",
   "metadata": {},
   "source": [
    "Below we compare the true log-price of bitcoin with the 200 first predictions:"
   ]
  },
  {
   "cell_type": "code",
   "execution_count": 18,
   "id": "02a17ba0",
   "metadata": {},
   "outputs": [
    {
     "data": {
      "image/png": "[encoded data removed]",
      "text/plain": [
       "<Figure size 1200x500 with 1 Axes>"
      ]
     },
     "metadata": {},
     "output_type": "display_data"
    }
   ],
   "source": [
    "plt.figure(figsize=(12, 5))\n",
    "plt.plot(y_true_inversed[:200], label=\"True log_BTC\", linewidth=2)\n",
    "plt.plot(y_pred_inversed[:200], label=\"Prediction\", linewidth=2)\n",
    "plt.xlabel(\"Hours\")\n",
    "plt.ylabel(\"Log-price of BTC\")\n",
    "plt.legend()\n",
    "plt.grid(True)\n",
    "plt.tight_layout()\n",
    "plt.show()"
   ]
  },
  {
   "cell_type": "markdown",
   "id": "686d3839",
   "metadata": {},
   "source": [
    "We compare true log-bictoin with prediction on the whole test set:"
   ]
  },
  {
   "cell_type": "code",
   "execution_count": 19,
   "id": "d8d45a1d",
   "metadata": {},
   "outputs": [
    {
     "data": {
      "image/png": "[encoded data removed]",
      "text/plain": [
       "<Figure size 1400x500 with 1 Axes>"
      ]
     },
     "metadata": {},
     "output_type": "display_data"
    }
   ],
   "source": [
    "test_datetime = df['datetime'].iloc[train_size + val_size + WINDOW + HORIZON - 1 :\n",
    "                                    train_size + val_size + WINDOW + HORIZON - 1 + len(y_true_inversed)]\n",
    "\n",
    "plt.figure(figsize=(14, 5))\n",
    "plt.plot(test_datetime, y_true_inversed, label=\"True log_BTC\", linewidth=2)\n",
    "plt.plot(test_datetime, y_pred_inversed, label=\"Prediction\", linewidth=2)\n",
    "plt.xlabel(\"Datetime\")\n",
    "plt.ylabel(\"Log-price of BTC\")\n",
    "plt.xticks(rotation=45)\n",
    "plt.legend()\n",
    "plt.grid(True)\n",
    "plt.tight_layout()\n",
    "plt.show()"
   ]
  },
  {
   "cell_type": "markdown",
   "id": "d55c1f68",
   "metadata": {},
   "source": [
    "## **Trying other lenghts of windows**"
   ]
  },
  {
   "cell_type": "code",
   "execution_count": 20,
   "id": "057ea6c0",
   "metadata": {},
   "outputs": [
    {
     "name": "stdout",
     "output_type": "stream",
     "text": [
      "\n",
      "---> Testing window of length 8 hours.\n",
      "window of 8 hours --- RMSE = 0.0840, MAE = 0.0650, R² = 0.7863\n",
      "\n",
      "---> Testing window of length 10 hours.\n",
      "window of 10 hours --- RMSE = 0.0844, MAE = 0.0647, R² = 0.7840\n",
      "\n",
      "---> Testing window of length 12 hours.\n",
      "window of 12 hours --- RMSE = 0.1073, MAE = 0.0832, R² = 0.6501\n",
      "\n",
      "---> Testing window of length 14 hours.\n",
      "window of 14 hours --- RMSE = 0.1043, MAE = 0.0790, R² = 0.6691\n",
      "\n",
      "---> Testing window of length 16 hours.\n",
      "window of 16 hours --- RMSE = 0.1192, MAE = 0.0928, R² = 0.5669\n",
      "\n",
      "---> Testing window of length 24 hours.\n",
      "window of 24 hours --- RMSE = 0.1008, MAE = 0.0779, R² = 0.6882\n",
      "\n",
      "---> Testing window of length 48 hours.\n",
      "window of 48 hours --- RMSE = 0.1294, MAE = 0.0996, R² = 0.4766\n",
      "\n",
      "---> Testing window of length 72 hours.\n",
      "window of 72 hours --- RMSE = 0.1724, MAE = 0.1342, R² = 0.0524\n"
     ]
    }
   ],
   "source": [
    "for window in [8, 10, 12, 14, 16, 24, 48, 72]:\n",
    "    print(f\"\\n---> Testing window of length {window} hours.\")\n",
    "\n",
    "    X_train, y_train = create_sequences(train_scaled, window)\n",
    "    X_val, y_val = create_sequences(val_scaled, window)\n",
    "    X_test, y_test = create_sequences(test_scaled, window)\n",
    "\n",
    "    model = models.Sequential([\n",
    "        layers.Input(shape=(window, X_train.shape[2])),\n",
    "        layers.LSTM(64, return_sequences=True),\n",
    "        layers.Dropout(0.2),\n",
    "        layers.LSTM(32),\n",
    "        layers.Dense(1)\n",
    "    ])\n",
    "    model.compile(optimizer='adam',\n",
    "                  loss='mse',\n",
    "                  metrics=[tf.keras.metrics.RootMeanSquaredError()])\n",
    "\n",
    "    es = callbacks.EarlyStopping(patience=5,\n",
    "                                 restore_best_weights=True,\n",
    "                                 monitor='val_loss')\n",
    "\n",
    "    model.fit(X_train, y_train,\n",
    "              validation_data=(X_val, y_val),\n",
    "              epochs=50,\n",
    "              batch_size=64,\n",
    "              callbacks=[es],\n",
    "              verbose=0)\n",
    "\n",
    "    y_pred_scaled = model.predict(X_test, verbose=0).flatten()\n",
    "\n",
    "    n_features = X_test.shape[2]\n",
    "    y_pred_full = np.column_stack([y_pred_scaled] + [np.zeros_like(y_pred_scaled) for _ in range(n_features - 1)])\n",
    "    y_true_full = np.column_stack([y_test] + [np.zeros_like(y_test) for _ in range(n_features - 1)])\n",
    "    y_pred_inversed = scaler.inverse_transform(y_pred_full)[:, 0]\n",
    "    y_true_inversed = scaler.inverse_transform(y_true_full)[:, 0]\n",
    "\n",
    "    rmse = np.sqrt(mean_squared_error(y_true_inversed, y_pred_inversed))\n",
    "    mae = mean_absolute_error(y_true_inversed, y_pred_inversed)\n",
    "    r2 = r2_score(y_true_inversed, y_pred_inversed)\n",
    "\n",
    "    print(f\"window of {window} hours --- RMSE = {rmse:.4f}, MAE = {mae:.4f}, R² = {r2:.4f}\")"
   ]
  }
 ],
 "metadata": {
  "kernelspec": {
   "display_name": "Python 3",
   "language": "python",
   "name": "python3"
  },
  "language_info": {
   "codemirror_mode": {
    "name": "ipython",
    "version": 3
   },
   "file_extension": ".py",
   "mimetype": "text/x-python",
   "name": "python",
   "nbconvert_exporter": "python",
   "pygments_lexer": "ipython3",
   "version": "3.11.0"
  }
 },
 "nbformat": 4,
 "nbformat_minor": 5
}
